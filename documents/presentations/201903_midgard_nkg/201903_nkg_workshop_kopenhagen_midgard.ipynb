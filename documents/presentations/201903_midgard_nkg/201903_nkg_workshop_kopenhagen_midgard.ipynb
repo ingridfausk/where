{
 "cells": [
  {
   "cell_type": "markdown",
   "metadata": {
    "slideshow": {
     "slide_type": "slide"
    }
   },
   "source": [
    "# Midgard - a Python geodesy library\n",
    "\n",
    "**Michael Dähnn**, **Ingrid Fausk**, **Geir Arne Hjelle**, **Ann-Silje Kirkvik**, **Mohammed Ouassou**, **Hans Sverre Smalø**"
   ]
  },
  {
   "cell_type": "markdown",
   "metadata": {
    "slideshow": {
     "slide_type": "slide"
    }
   },
   "source": [
    "## Midgard\n",
    "\n",
    "Midgard is the name for Earth inhabited by humans in the Norse mythology.\n",
    "\n",
    "<center><img src=\"figure/midgard_jeanjean.jpg\", width=400/></center>"
   ]
  },
  {
   "cell_type": "markdown",
   "metadata": {
    "slideshow": {
     "slide_type": "slide"
    }
   },
   "source": [
    "\n",
    "## Motivation\n",
    "\n",
    "- Need of Where software functionality for other NMA applications.\n",
    "- Outsourcing of general Python functionality from Where to Midgard library.\n",
    "\n",
    "<center><img src=\"figure/midgard_library.png\", width=800/></center>\n"
   ]
  },
  {
   "cell_type": "markdown",
   "metadata": {
    "slideshow": {
     "slide_type": "slide"
    }
   },
   "source": [
    "## Midgard functionality\n",
    "\n",
    "- Configuration\n",
    "- Dataset (storing data, time and coordinate system conversion, ...)\n",
    "- Logging\n",
    "- Mathematic (rotation, interpolation, transformation, unit, time)\n",
    "- Models (Klobuchar, DOP, ... )\n",
    "- Parser (ANTEX, SINEX, RINEX, SP3, ...)\n",
    "- Site information"
   ]
  },
  {
   "cell_type": "markdown",
   "metadata": {
    "slideshow": {
     "slide_type": "slide"
    }
   },
   "source": [
    "## Parser module"
   ]
  },
  {
   "cell_type": "code",
   "execution_count": 3,
   "metadata": {
    "slideshow": {
     "slide_type": "fragment"
    }
   },
   "outputs": [
    {
     "data": {
      "text/plain": [
       "{'G01': {datetime.datetime(1992, 11, 22, 0, 0): {'G01': {'neu': [0.279,\n",
       "     0.0,\n",
       "     2.3195],\n",
       "    'noazi': array([-0.8, -0.9, -0.9, -0.8, -0.4,  0.2,  0.8,  1.3,  1.4,  1.2,  0.7,\n",
       "            0. , -0.4, -0.7, -0.9, -0.9, -0.9, -0.9])},\n",
       "   'cospar_id': '1992-079A',\n",
       "   'sat_code': 'G032',\n",
       "   'sat_type': 'BLOCK IIA',\n",
       "   'valid_until': datetime.datetime(2008, 12, 15, 23, 58, 59, 991360),\n",
       "   'elevation': array([1.57079633, 1.55334303, 1.53588974, 1.51843645, 1.50098316,\n",
       "          1.48352986, 1.46607657, 1.44862328, 1.43116999, 1.41371669,\n",
       "          1.3962634 , 1.37881011, 1.36135682, 1.34390352, 1.32645023,\n",
       "          1.30899694, 1.29154365, 1.27409035]),\n",
       "   'G02': {'neu': [0.279, 0.0, 2.3195],\n",
       "    'noazi': array([-0.8, -0.9, -0.9, -0.8, -0.4,  0.2,  0.8,  1.3,  1.4,  1.2,  0.7,\n",
       "            0. , -0.4, -0.7, -0.9, -0.9, -0.9, -0.9])}}},\n",
       " 'AERAT1675_120   SPKE': {'G01': {'neu': [-1e-05,\n",
       "    0.00057,\n",
       "    0.08051000000000001],\n",
       "   'noazi': array([ 0.  , -0.07, -0.28, -0.61, -1.01, -1.46, -1.94, -2.43, -2.92,\n",
       "          -3.38, -3.75, -3.95, -3.87, -3.37, -2.31, -0.58,  1.86,  4.91,\n",
       "           8.28]),\n",
       "   'azi': array([['+0.00', '-0.09', '-0.33', ..., '+2.77', '+5.81', '+9.16'],\n",
       "          ['+0.00', '-0.09', '-0.33', ..., '+2.75', '+5.80', '+9.19'],\n",
       "          ['+0.00', '-0.09', '-0.33', ..., '+2.65', '+5.71', '+9.12'],\n",
       "          ...,\n",
       "          ['+0.00', '-0.09', '-0.32', ..., '+2.55', '+5.57', '+8.85'],\n",
       "          ['+0.00', '-0.09', '-0.33', ..., '+2.70', '+5.73', '+9.05'],\n",
       "          ['+0.00', '-0.09', '-0.33', ..., '+2.77', '+5.81', '+9.16']],\n",
       "         dtype='<U5')},\n",
       "  'elevation': array([1.57079633, 1.48352986, 1.3962634 , 1.30899694, 1.22173048,\n",
       "         1.13446401, 1.04719755, 0.95993109, 0.87266463, 0.78539816,\n",
       "         0.6981317 , 0.61086524, 0.52359878, 0.43633231, 0.34906585,\n",
       "         0.26179939, 0.17453293, 0.08726646, 0.        ]),\n",
       "  'azimuth': array([0.        , 0.08726646, 0.17453293, 0.26179939, 0.34906585,\n",
       "         0.43633231, 0.52359878, 0.61086524, 0.6981317 , 0.78539816,\n",
       "         0.87266463, 0.95993109, 1.04719755, 1.13446401, 1.22173048,\n",
       "         1.30899694, 1.3962634 , 1.48352986, 1.57079633, 1.65806279,\n",
       "         1.74532925, 1.83259571, 1.91986218, 2.00712864, 2.0943951 ,\n",
       "         2.18166156, 2.26892803, 2.35619449, 2.44346095, 2.53072742,\n",
       "         2.61799388, 2.70526034, 2.7925268 , 2.87979327, 2.96705973,\n",
       "         3.05432619, 3.14159265, 3.22885912, 3.31612558, 3.40339204,\n",
       "         3.4906585 , 3.57792497, 3.66519143, 3.75245789, 3.83972435,\n",
       "         3.92699082, 4.01425728, 4.10152374, 4.1887902 , 4.27605667,\n",
       "         4.36332313, 4.45058959, 4.53785606, 4.62512252, 4.71238898,\n",
       "         4.79965544, 4.88692191, 4.97418837, 5.06145483, 5.14872129,\n",
       "         5.23598776, 5.32325422, 5.41052068, 5.49778714, 5.58505361,\n",
       "         5.67232007, 5.75958653, 5.84685299, 5.93411946, 6.02138592,\n",
       "         6.10865238, 6.19591884, 6.28318531]),\n",
       "  'G02': {'neu': [-0.00102, -0.0003, 0.09653],\n",
       "   'noazi': array([ 0.  , -0.14, -0.56, -1.21, -2.03, -2.96, -3.89, -4.72, -5.33,\n",
       "          -5.63, -5.55, -5.1 , -4.31, -3.22, -1.8 ,  0.08,  2.68,  6.24,\n",
       "          10.82]),\n",
       "   'azi': array([['+0.00', '-0.09', '-0.33', ..., '+2.77', '+5.81', '+9.16'],\n",
       "          ['+0.00', '-0.09', '-0.33', ..., '+2.75', '+5.80', '+9.19'],\n",
       "          ['+0.00', '-0.09', '-0.33', ..., '+2.65', '+5.71', '+9.12'],\n",
       "          ...,\n",
       "          ['+0.00', '-0.15', '-0.58', ..., '+2.30', '+6.07', '+10.58'],\n",
       "          ['+0.00', '-0.16', '-0.58', ..., '+2.17', '+5.90', '+10.42'],\n",
       "          ['+0.00', '-0.16', '-0.59', ..., '+2.04', '+5.74', '+10.27']],\n",
       "         dtype='<U6')},\n",
       "  'R01': {'neu': [-1e-05, 0.00057, 0.08051000000000001],\n",
       "   'noazi': array([ 0.  , -0.08, -0.31, -0.68, -1.14, -1.64, -2.17, -2.7 , -3.2 ,\n",
       "          -3.67, -4.08, -4.39, -4.47, -4.16, -3.27, -1.61,  0.88,  4.11,\n",
       "           7.7 ]),\n",
       "   'azi': array([['+0.00', '-0.09', '-0.33', ..., '+2.77', '+5.81', '+9.16'],\n",
       "          ['+0.00', '-0.09', '-0.33', ..., '+2.75', '+5.80', '+9.19'],\n",
       "          ['+0.00', '-0.09', '-0.33', ..., '+2.65', '+5.71', '+9.12'],\n",
       "          ...,\n",
       "          ['+0.00', '-0.06', '-0.26', ..., '+1.84', '+5.02', '+8.53'],\n",
       "          ['+0.00', '-0.06', '-0.26', ..., '+1.92', '+5.12', '+8.68'],\n",
       "          ['+0.00', '-0.05', '-0.26', ..., '+1.91', '+5.13', '+8.71']],\n",
       "         dtype='<U6')},\n",
       "  'R02': {'neu': [-0.00102, -0.0003, 0.09653],\n",
       "   'noazi': array([ 0.  , -0.13, -0.53, -1.12, -1.82, -2.58, -3.35, -4.06, -4.64,\n",
       "          -5.03, -5.13, -4.89, -4.31, -3.43, -2.25, -0.74,  1.28,  4.08,\n",
       "           7.82]),\n",
       "   'azi': array([['+0.00', '-0.09', '-0.33', ..., '+2.77', '+5.81', '+9.16'],\n",
       "          ['+0.00', '-0.09', '-0.33', ..., '+2.75', '+5.80', '+9.19'],\n",
       "          ['+0.00', '-0.09', '-0.33', ..., '+2.65', '+5.71', '+9.12'],\n",
       "          ...,\n",
       "          ['+0.00', '-0.16', '-0.63', ..., '+0.39', '+3.46', '+7.20'],\n",
       "          ['+0.00', '-0.17', '-0.63', ..., '+0.23', '+3.29', '+7.12'],\n",
       "          ['+0.00', '-0.17', '-0.64', ..., '+0.05', '+3.12', '+7.05']],\n",
       "         dtype='<U6')}}}"
      ]
     },
     "execution_count": 3,
     "metadata": {},
     "output_type": "execute_result"
    }
   ],
   "source": [
    "# Import parsers module\n",
    "from midgard import parsers\n",
    "\n",
    "# Read file by generating an instance of a Parser class\n",
    "p = parsers.parse_file(parser_name=\"gnss_antex\", file_path=\"./examples/gnss_antex\")\n",
    "\n",
    "# Access data\n",
    "p.as_dict()\n"
   ]
  },
  {
   "cell_type": "markdown",
   "metadata": {
    "slideshow": {
     "slide_type": "slide"
    }
   },
   "source": [
    "## Time module"
   ]
  },
  {
   "cell_type": "code",
   "execution_count": 5,
   "metadata": {
    "slideshow": {
     "slide_type": "fragment"
    }
   },
   "outputs": [
    {
     "data": {
      "text/plain": [
       "(array([2046.]), array([86400.]))"
      ]
     },
     "execution_count": 5,
     "metadata": {},
     "output_type": "execute_result"
    }
   ],
   "source": [
    "# Standard library import\n",
    "from datetime import datetime\n",
    "\n",
    "# Import Time class\n",
    "from midgard.data.time import Time\n",
    "\n",
    "# Get Time instance\n",
    "time = Time(val=datetime(2019,3,25), scale='utc', format='datetime')\n",
    "\n",
    "# Convert time\n",
    "time.jd\n",
    "time.gps_ws"
   ]
  },
  {
   "cell_type": "markdown",
   "metadata": {
    "slideshow": {
     "slide_type": "slide"
    }
   },
   "source": [
    "## Position module"
   ]
  },
  {
   "cell_type": "code",
   "execution_count": 7,
   "metadata": {
    "slideshow": {
     "slide_type": "fragment"
    }
   },
   "outputs": [
    {
     "data": {
      "text/plain": [
       "('radians', 'radians', 'meter')"
      ]
     },
     "execution_count": 7,
     "metadata": {},
     "output_type": "execute_result"
    }
   ],
   "source": [
    "# Import Position class\n",
    "from midgard.data.position import Position\n",
    "\n",
    "# Get Position instance\n",
    "pos = Position(\n",
    "            val=[3516552.86624077,  782177.07796622, 5245701.72962593], \n",
    "            system='trs',\n",
    "      )\n",
    "\n",
    "# Convert to ellipsoidal reference system\n",
    "pos.llh\n",
    "pos.llh.unit()"
   ]
  },
  {
   "cell_type": "markdown",
   "metadata": {
    "slideshow": {
     "slide_type": "slide"
    }
   },
   "source": [
    "## Site information module"
   ]
  },
  {
   "cell_type": "code",
   "execution_count": 5,
   "metadata": {
    "slideshow": {
     "slide_type": "fragment"
    }
   },
   "outputs": [
    {
     "data": {
      "text/plain": [
       "AntennaSinex(station='zimm', type='TRM14532.00', serial_number='3311A', radome_type='NONE')"
      ]
     },
     "execution_count": 5,
     "metadata": {},
     "output_type": "execute_result"
    }
   ],
   "source": [
    "# Standard library import\n",
    "from datetime import datetime\n",
    "\n",
    "# Import Antenna class\n",
    "from midgard.site_info.antenna import Antenna\n",
    "\n",
    "# Get antenna information for station ZIMM\n",
    "Antenna.get(source=\"sinex\", source_path=\"./examples/igs.snx\",  \n",
    "            station=\"zimm\", date=datetime(1998, 3, 25), \n",
    ")"
   ]
  },
  {
   "cell_type": "code",
   "execution_count": 4,
   "metadata": {
    "slideshow": {
     "slide_type": "fragment"
    }
   },
   "outputs": [
    {
     "data": {
      "text/plain": [
       "{(datetime.datetime(1993, 5, 1, 0, 0),\n",
       "  datetime.datetime(1998, 11, 6, 0, 0)): AntennaSinex(station='zimm', type='TRM14532.00', serial_number='3311A', radome_type='NONE'),\n",
       " (datetime.datetime(1998, 11, 6, 0, 0),\n",
       "  datetime.datetime(9999, 12, 31, 23, 59, 59, 999999)): AntennaSinex(station='zimm', type='TRM29659.00', serial_number='99390', radome_type='NONE')}"
      ]
     },
     "execution_count": 4,
     "metadata": {},
     "output_type": "execute_result"
    }
   ],
   "source": [
    "# Get antenna history instance\n",
    "ant = Antenna.get_history(source=\"sinex\", source_path=\"./examples/igs.snx\", station=\"zimm\")\n",
    "ant.history"
   ]
  },
  {
   "cell_type": "markdown",
   "metadata": {
    "slideshow": {
     "slide_type": "slide"
    }
   },
   "source": [
    "## Timeseries application\n",
    "\n",
    "- Application for visualization of GNSS timeseries together with specific events (for example antenna and receiver changes)\n",
    "- Application is based on Midgard"
   ]
  },
  {
   "cell_type": "markdown",
   "metadata": {
    "slideshow": {
     "slide_type": "fragment"
    }
   },
   "source": [
    "<center><img src=\"figure/timeseries_overview.png\", width=1200/></center>"
   ]
  },
  {
   "cell_type": "markdown",
   "metadata": {
    "slideshow": {
     "slide_type": "slide"
    }
   },
   "source": [
    "## Access of Midgard\n",
    "\n",
    "- Open source available via GitHub:\n",
    "\n",
    "    https://github.com/kartverket/midgard\n",
    "    \n",
    "    \n",
    "    \n",
    "\n",
    "- Website with information about Midgard:\n",
    "\n",
    "    https://kartverket.github.io/midgard/"
   ]
  },
  {
   "cell_type": "markdown",
   "metadata": {
    "slideshow": {
     "slide_type": "slide"
    }
   },
   "source": [
    "## Summary\n",
    "\n",
    "- Midgard library provides geodesy related Python modules\n",
    "- Midgard is open source\n",
    "- transfer from Where functionality to Midgard is not finished"
   ]
  },
  {
   "cell_type": "markdown",
   "metadata": {
    "slideshow": {
     "slide_type": "slide"
    }
   },
   "source": [
    "## Thank you for your attention!"
   ]
  },
  {
   "cell_type": "markdown",
   "metadata": {
    "slideshow": {
     "slide_type": "slide"
    }
   },
   "source": [
    "## Midgard Dataset\n",
    "\n",
    "- storing data in memory or on disk\n",
    "- Hierarchical Data Format 5 (HDF5) is applied for saving data on disk \n",
    "- HDF5 is a high-performance storage format for accessing and storing data efficiently"
   ]
  },
  {
   "cell_type": "markdown",
   "metadata": {
    "slideshow": {
     "slide_type": "slide"
    }
   },
   "source": [
    "## Midgard Dataset\n",
    "\n",
    "Defined data struture for handling of geodetic timeseries:\n",
    "\n",
    "- time (conversion of different time scales and formats)\n",
    "- position (conversion between coordinate systems)\n",
    "- velocity (defining satellite position, conversion between satellite coordinate systems)\n",
    "- observation\n",
    "- metadata (e.g. receiver, antenna, firmware)"
   ]
  }
 ],
 "metadata": {
  "celltoolbar": "Slideshow",
  "kernelspec": {
   "display_name": "Python 3",
   "language": "python",
   "name": "python3"
  },
  "language_info": {
   "codemirror_mode": {
    "name": "ipython",
    "version": 3
   },
   "file_extension": ".py",
   "mimetype": "text/x-python",
   "name": "python",
   "nbconvert_exporter": "python",
   "pygments_lexer": "ipython3",
   "version": "3.7.1"
  }
 },
 "nbformat": 4,
 "nbformat_minor": 2
}
