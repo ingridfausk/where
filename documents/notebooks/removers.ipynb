{
 "cells": [
  {
   "cell_type": "markdown",
   "metadata": {},
   "source": [
    "# removers\n",
    "\n",
    "The Where **removers** are used to reject observations from the observation Dataset. In the following it will be explained, how to use the **removers** in Where."
   ]
  },
  {
   "cell_type": "markdown",
   "metadata": {},
   "source": [
    "## Use removers\n",
    "It exists two possibilities to apply **removers**. Either the removers can be defined in a configuration file or they can be called directly in the source code.\n",
    "\n",
    "### Use removers via configuration file\n",
    "Firstly it will be explained, how removers can be used via configuration file definition. The removers to be applied in an analysis has to be defined via the `removers` option in the configuration file like:"
   ]
  },
  {
   "cell_type": "raw",
   "metadata": {},
   "source": [
    "    # Define removers to apply in analysis\n",
    "    removers                 = ignore_satellite, ignore_station\n",
    "    removers:add_sections\n",
    "    \n",
    "    # Sections with specific options related to remover \n",
    "    [ignore_satellite]\n",
    "    satellites                = E14 E18 E20 C05\n",
    "    \n",
    "    [ignore_station]\n",
    "    stations                  = stas, trds, zimm"
   ]
  },
  {
   "cell_type": "markdown",
   "metadata": {},
   "source": [
    "The `removers:add_sections` has to be used, if the removers has defined additional options. This additional options are specified in so called `sections` with the same name as the remover. For example the remover `ignore_satellite` needs to specify which satellites has to be removed from the observations, this is done via the `satellites` option in section `[ignore_satellite]`.\n",
    "\n",
    "The removers are applied as follows in Where:"
   ]
  },
  {
   "cell_type": "code",
   "execution_count": null,
   "metadata": {},
   "outputs": [],
   "source": [
    "# Import cleaners module, which includes removers module\n",
    "from where import cleaners\n",
    "\n",
    "# Apply all removers, which are defined in configuration file with\n",
    "# option 'removers'\n",
    "cleaners.apply_removers(\"removers\", dset)"
   ]
  },
  {
   "cell_type": "markdown",
   "metadata": {},
   "source": [
    "The Dataset `dset` returned by function `cleaners.apply_removers` is a subset of the input `dset`, whereby observations were rejected by `removers`."
   ]
  },
  {
   "cell_type": "markdown",
   "metadata": {},
   "source": [
    "### Use removers directly in source code\n",
    "The `removers` function `apply_remover` can be used to directly call a specified remover."
   ]
  },
  {
   "cell_type": "code",
   "execution_count": null,
   "metadata": {},
   "outputs": [],
   "source": [
    "# Import cleaners module, which includes removers module\n",
    "from where import cleaners\n",
    "\n",
    "# Apply remover\n",
    "cleaners.apply_remover(\n",
    "    \"ignore_satellite\",         # remover name\n",
    "    dset,                       # Dataset with observations\n",
    "    satellites=['E14', 'E18']   # additional remover options\n",
    ")"
   ]
  },
  {
   "cell_type": "markdown",
   "metadata": {},
   "source": [
    "The Dataset `dset` returned by function `cleaners.apply_remover` is a subset of the input `dset`, whereby observations were rejected by defined `remover`."
   ]
  },
  {
   "cell_type": "markdown",
   "metadata": {},
   "source": [
    "## Add a new remover\n",
    "\n",
    "Each remover should be defined in a separate `.py`-file in directory `./where/cleaners/removers`. The function inside the `.py`-file that should be called needs to be decorated with the `~where.lib.plugins.register` decorator as follows:"
   ]
  },
  {
   "cell_type": "code",
   "execution_count": null,
   "metadata": {},
   "outputs": [],
   "source": [
    "    # Import Where plugins module\n",
    "    from where.lib import plugins\n",
    "\n",
    "    # Register remover 'ignore_station'\n",
    "    @plugins.register\n",
    "    def ignore_station(dset):\n",
    "        ..."
   ]
  }
 ],
 "metadata": {
  "kernelspec": {
   "display_name": "Python 3",
   "language": "python",
   "name": "python3"
  },
  "language_info": {
   "codemirror_mode": {
    "name": "ipython",
    "version": 3
   },
   "file_extension": ".py",
   "mimetype": "text/x-python",
   "name": "python",
   "nbconvert_exporter": "python",
   "pygments_lexer": "ipython3",
   "version": "3.7.1"
  }
 },
 "nbformat": 4,
 "nbformat_minor": 2
}
